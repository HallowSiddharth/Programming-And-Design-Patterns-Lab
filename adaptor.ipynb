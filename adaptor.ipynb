{
 "cells": [
  {
   "cell_type": "markdown",
   "id": "13b05735",
   "metadata": {},
   "source": [
    "### **6.Adaptor Pattern**\n",
    "\n",
    "> 1. Used to adapt methods for better functionality\n",
    "> 2. An adaptor class must be used, to basically translate a class so that it can be used with other classes."
   ]
  },
  {
   "cell_type": "code",
   "execution_count": 2,
   "id": "9f2771e4",
   "metadata": {},
   "outputs": [],
   "source": [
    "#Build: build stuff\n",
    "# work\n",
    "#Manager: manage stuff\n",
    "# manage\n",
    "\n",
    "class Builder:\n",
    "    def work(self):\n",
    "        print(\"I am building stuff!!\")\n",
    "        print(\"I like building stuff!\")\n",
    "\n",
    "class Manager:\n",
    "    def manage(self):\n",
    "        print(\"I am managing stuff!\")\n",
    "        print(\"I like managing stuff\")\n"
   ]
  },
  {
   "cell_type": "code",
   "execution_count": 5,
   "id": "7e73d4a3",
   "metadata": {},
   "outputs": [],
   "source": [
    "class ManagerAdapter:\n",
    "    def __init__(self):\n",
    "        self.obj = Manager()\n",
    "    \n",
    "    def work(self):\n",
    "        print(\"This is an adapted function\")\n",
    "        self.obj.manage()"
   ]
  },
  {
   "cell_type": "code",
   "execution_count": 6,
   "id": "1b48d2bc",
   "metadata": {},
   "outputs": [
    {
     "name": "stdout",
     "output_type": "stream",
     "text": [
      "I am building stuff!!\n",
      "I like building stuff!\n",
      "This is an adapted function\n",
      "I am managing stuff!\n",
      "I like managing stuff\n",
      "I am building stuff!!\n",
      "I like building stuff!\n",
      "This is an adapted function\n",
      "I am managing stuff!\n",
      "I like managing stuff\n"
     ]
    }
   ],
   "source": [
    "#In action\n",
    "\n",
    "a = Builder()\n",
    "b = ManagerAdapter()\n",
    "c = Builder()\n",
    "d = ManagerAdapter()\n",
    "\n",
    "lst = [a,b,c,d]\n",
    "\n",
    "for i in lst:\n",
    "    i.work()"
   ]
  }
 ],
 "metadata": {
  "kernelspec": {
   "display_name": "Python 3",
   "language": "python",
   "name": "python3"
  },
  "language_info": {
   "codemirror_mode": {
    "name": "ipython",
    "version": 3
   },
   "file_extension": ".py",
   "mimetype": "text/x-python",
   "name": "python",
   "nbconvert_exporter": "python",
   "pygments_lexer": "ipython3",
   "version": "3.10.0"
  }
 },
 "nbformat": 4,
 "nbformat_minor": 5
}
