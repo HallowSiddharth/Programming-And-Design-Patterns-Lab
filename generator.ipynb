{
 "cells": [
  {
   "cell_type": "markdown",
   "id": "a5fd30eb",
   "metadata": {},
   "source": [
    "## Generator Pattern"
   ]
  },
  {
   "cell_type": "markdown",
   "id": "0782d78f",
   "metadata": {},
   "source": [
    "- Special type of iterator in Python\n",
    "- Allows you to \"yield\" values one at a time, instead of returning all at once like a list"
   ]
  },
  {
   "cell_type": "code",
   "execution_count": null,
   "id": "8ab79009",
   "metadata": {},
   "outputs": [
    {
     "name": "stdout",
     "output_type": "stream",
     "text": [
      "[1, 2, 3, 4]\n",
      "<generator object function2 at 0x0000024610EDC200>\n"
     ]
    }
   ],
   "source": [
    "def function(lst):\n",
    "    return lst\n",
    "\n",
    "def function2(lst):\n",
    "    yield lst[0]\n",
    "    yield lst[1]\n",
    "    yield lst[2]\n",
    "    yield lst[3]\n",
    "\n",
    "lst2 = function([1,2,3,4])\n",
    "gen_ob = function2([1,2,3,4])\n",
    "print(lst2)\n",
    "print(gen_ob)"
   ]
  },
  {
   "cell_type": "code",
   "execution_count": 22,
   "id": "7d7afba9",
   "metadata": {},
   "outputs": [
    {
     "name": "stdout",
     "output_type": "stream",
     "text": [
      "<generator object num_gen at 0x0000024610F1B680>\n"
     ]
    }
   ],
   "source": [
    "def num_gen(lst):\n",
    "    for i in lst:\n",
    "        yield i * i\n",
    "\n",
    "gen_ob = num_gen([1,2,3,4,5])\n",
    "\n",
    "print(gen_ob)"
   ]
  },
  {
   "cell_type": "markdown",
   "id": "862bcaef",
   "metadata": {},
   "source": [
    "### Method 1 to iterate over a generator"
   ]
  },
  {
   "cell_type": "code",
   "execution_count": 23,
   "id": "db32ce51",
   "metadata": {},
   "outputs": [
    {
     "name": "stdout",
     "output_type": "stream",
     "text": [
      "1\n",
      "4\n",
      "9\n",
      "16\n",
      "25\n",
      "iteration stopped\n"
     ]
    }
   ],
   "source": [
    "gen_ob = num_gen([1,2,3,4,5])\n",
    "while True:\n",
    "    try:\n",
    "        el = next(gen_ob)\n",
    "        print(el)\n",
    "    except StopIteration:\n",
    "        print(\"iteration stopped\")\n",
    "        break"
   ]
  },
  {
   "cell_type": "markdown",
   "id": "eb71d077",
   "metadata": {},
   "source": [
    "Method 2"
   ]
  },
  {
   "cell_type": "code",
   "execution_count": 24,
   "id": "e7bfc38c",
   "metadata": {},
   "outputs": [
    {
     "name": "stdout",
     "output_type": "stream",
     "text": [
      "1\n",
      "4\n",
      "9\n",
      "16\n",
      "25\n"
     ]
    }
   ],
   "source": [
    "gen_ob = num_gen([1,2,3,4,5])\n",
    "\n",
    "for i in gen_ob:\n",
    "    print(i)"
   ]
  },
  {
   "cell_type": "markdown",
   "id": "401fd538",
   "metadata": {},
   "source": [
    "| Aspect       | Generator (`yield`) | List (`return list`) |\n",
    "| ------------ | ------------------- | -------------------- |\n",
    "| Memory usage | Very low            | High for large data  |\n",
    "| Speed        | Lazy, on-demand     | Eager, all at once   |\n",
    "| Reusability  | One-time use        | Reusable             |\n",
    "| Flexibility  | Can be paused       | No pause, just dump  |"
   ]
  },
  {
   "cell_type": "markdown",
   "id": "c9777d84",
   "metadata": {},
   "source": [
    "### Why use Generators?\n",
    "- ideal for big data, streaming or working with I/O\n",
    "- anywhere we don't want to hold all data in memory at once\n"
   ]
  }
 ],
 "metadata": {
  "kernelspec": {
   "display_name": "Python 3",
   "language": "python",
   "name": "python3"
  },
  "language_info": {
   "codemirror_mode": {
    "name": "ipython",
    "version": 3
   },
   "file_extension": ".py",
   "mimetype": "text/x-python",
   "name": "python",
   "nbconvert_exporter": "python",
   "pygments_lexer": "ipython3",
   "version": "3.10.0"
  }
 },
 "nbformat": 4,
 "nbformat_minor": 5
}
