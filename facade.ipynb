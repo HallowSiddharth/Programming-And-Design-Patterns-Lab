{
 "cells": [
  {
   "cell_type": "markdown",
   "id": "89eb8abc",
   "metadata": {},
   "source": [
    "### **7. Facade Pattern**\n",
    "\n",
    "> Used to hide complexity"
   ]
  },
  {
   "cell_type": "code",
   "execution_count": 1,
   "id": "0027daad",
   "metadata": {},
   "outputs": [],
   "source": [
    "#facade pattern\n",
    "\n",
    "\n",
    "class Waiter:\n",
    "    def take(self):\n",
    "        print(\"Your order has been taken!\")\n",
    "    \n",
    "    def serve(self):\n",
    "        print(\"Your order has been served!\")\n",
    "\n",
    "class Chef:\n",
    "    def cook(self):\n",
    "        print(\"Your order is cooking right now!\")\n",
    "    \n",
    "    def finish(self):\n",
    "        print(\"Your food is done cooking!\")\n",
    "\n",
    "class DeliveryBoy:\n",
    "    def start(self):\n",
    "        print(\"Your food has left the restaurant!\")\n",
    "    \n",
    "    def finish(self):\n",
    "        print(\"Your food has been delivered!\")\n"
   ]
  },
  {
   "cell_type": "code",
   "execution_count": 2,
   "id": "73dda802",
   "metadata": {},
   "outputs": [
    {
     "name": "stdout",
     "output_type": "stream",
     "text": [
      "Your order has been taken!\n",
      "Your order is cooking right now!\n",
      "Your food is done cooking!\n",
      "Your order has been served!\n",
      "Your food has left the restaurant!\n",
      "Your food has been delivered!\n"
     ]
    }
   ],
   "source": [
    "class Facade:\n",
    "\n",
    "    def __init__(self):\n",
    "        self.chef = Chef()\n",
    "        self.deliveryboy = DeliveryBoy()\n",
    "        self.waiter = Waiter()\n",
    "\n",
    "    def order_food(self):\n",
    "        self.waiter.take()\n",
    "        #cook the order\n",
    "        self.chef.cook()\n",
    "        #finish cooking\n",
    "        self.chef.finish()\n",
    "        #send order to delivery boy\n",
    "        self.waiter.serve()\n",
    "        #out for delivery\n",
    "        self.deliveryboy.start()\n",
    "        #deliver to curstomer\n",
    "        self.deliveryboy.finish()\n",
    "\n",
    "app = Facade()\n",
    "\n",
    "app.order_food()\n"
   ]
  }
 ],
 "metadata": {
  "kernelspec": {
   "display_name": "Python 3",
   "language": "python",
   "name": "python3"
  },
  "language_info": {
   "codemirror_mode": {
    "name": "ipython",
    "version": 3
   },
   "file_extension": ".py",
   "mimetype": "text/x-python",
   "name": "python",
   "nbconvert_exporter": "python",
   "pygments_lexer": "ipython3",
   "version": "3.10.0"
  }
 },
 "nbformat": 4,
 "nbformat_minor": 5
}
