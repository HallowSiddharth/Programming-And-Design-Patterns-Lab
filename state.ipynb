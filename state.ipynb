{
 "cells": [
  {
   "cell_type": "markdown",
   "id": "9ee30154",
   "metadata": {},
   "source": [
    "## State Pattern"
   ]
  },
  {
   "cell_type": "code",
   "execution_count": null,
   "id": "18ee39a4",
   "metadata": {},
   "outputs": [
    {
     "name": "stdout",
     "output_type": "stream",
     "text": [
      "Moving up to 1 floor\n",
      "Moving up to 2 floor\n",
      "You are at the second floor, can't go up!\n",
      "Moving down to 1 floor\n",
      "Moving up to 2 floor\n",
      "Moving down to 1 floor\n",
      "Moving down to 0 floor\n"
     ]
    }
   ],
   "source": [
    "#elevator\n",
    "\n",
    "class Elevator:\n",
    "\n",
    "    def __init__(self):\n",
    "        self.state = 0\n",
    "\n",
    "    def up(self):\n",
    "\n",
    "        if self.state == 2:\n",
    "            print(\"You are at the second floor, can't go up!\")\n",
    "        \n",
    "        else:\n",
    "            print(f\"Moving up to {self.state+1} floor\")\n",
    "            self.state += 1\n",
    "    \n",
    "    def down(self):\n",
    "        if self.state == 0:\n",
    "            print(\"You are at the second floor, can't go down!\")\n",
    "        \n",
    "        else:\n",
    "            print(f\"Moving down to {self.state-1} floor\")\n",
    "            self.state -= 1\n",
    "\n",
    "\n",
    "e = Elevator()\n",
    "\n",
    "e.up()\n",
    "e.up()\n",
    "e.up()\n",
    "e.down()\n",
    "e.up()\n",
    "e.down()\n",
    "e.down()\n",
    "    "
   ]
  },
  {
   "cell_type": "code",
   "execution_count": 2,
   "id": "d073965b",
   "metadata": {},
   "outputs": [
    {
     "name": "stdout",
     "output_type": "stream",
     "text": [
      "<__main__.FirstFloor object at 0x00000286B23A3D90>\n",
      "<__main__.SecondFloor object at 0x00000286B23A3D00>\n",
      "Cannot go further up, we are at the second floor!\n",
      "<__main__.SecondFloor object at 0x00000286B23A3D00>\n",
      "<__main__.FirstFloor object at 0x00000286B23A36D0>\n",
      "<__main__.SecondFloor object at 0x00000286B23A3D00>\n",
      "<__main__.FirstFloor object at 0x00000286B23A36D0>\n",
      "<__main__.GroundFloor object at 0x00000286B23A3D00>\n"
     ]
    }
   ],
   "source": [
    "#state pattern\n",
    "\n",
    "class SecondFloor:\n",
    "    def up(self):\n",
    "        print(\"Cannot go further up, we are at the second floor!\")\n",
    "\n",
    "    def down(self):\n",
    "        self.elevator.setstate(FirstFloor())\n",
    "\n",
    "class FirstFloor:\n",
    "    def up(self):\n",
    "        self.elevator.setstate(SecondFloor())\n",
    "    \n",
    "    def down(self):\n",
    "        self.elevator.setstate(GroundFloor())\n",
    "\n",
    "class GroundFloor:\n",
    "    def up(self):\n",
    "        self.elevator.setstate(FirstFloor())\n",
    "    \n",
    "    def down(self):\n",
    "        print(\"Cannot go further down!\")\n",
    "\n",
    "class Elevator:\n",
    "    def __init__(self):\n",
    "        self.setstate(GroundFloor())\n",
    "    \n",
    "    def setstate(self, state):\n",
    "        self.state = state\n",
    "        self.state.elevator = self\n",
    "    \n",
    "    def up(self):\n",
    "        self.state.up()\n",
    "\n",
    "    def down(self):\n",
    "        self.state.down()\n",
    "    \n",
    "    def getstate(self):\n",
    "        print(self.state)\n",
    "\n",
    "e1 = Elevator()\n",
    "e1.up()\n",
    "e1.getstate()\n",
    "e1.up()\n",
    "e1.getstate()\n",
    "e1.up()\n",
    "e1.getstate()\n",
    "\n",
    "e1.down()\n",
    "e1.getstate()\n",
    "\n",
    "e1.up()\n",
    "e1.getstate()\n",
    "\n",
    "e1.down()\n",
    "e1.getstate()\n",
    "\n",
    "e1.down()\n",
    "e1.getstate()\n"
   ]
  }
 ],
 "metadata": {
  "kernelspec": {
   "display_name": "Python 3",
   "language": "python",
   "name": "python3"
  },
  "language_info": {
   "codemirror_mode": {
    "name": "ipython",
    "version": 3
   },
   "file_extension": ".py",
   "mimetype": "text/x-python",
   "name": "python",
   "nbconvert_exporter": "python",
   "pygments_lexer": "ipython3",
   "version": "3.10.0"
  }
 },
 "nbformat": 4,
 "nbformat_minor": 5
}
