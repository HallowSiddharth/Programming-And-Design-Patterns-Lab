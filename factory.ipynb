{
 "cells": [
  {
   "cell_type": "markdown",
   "id": "fa777207",
   "metadata": {},
   "source": [
    "## Factory Pattern"
   ]
  },
  {
   "cell_type": "markdown",
   "id": "e5fc816d",
   "metadata": {},
   "source": [
    "> delegating object creation to a seperate method, so you don't have write ClassName() everywhere"
   ]
  },
  {
   "cell_type": "markdown",
   "id": "1ea1edaa",
   "metadata": {},
   "source": [
    "> Instantiation is done using a dedicated factory"
   ]
  },
  {
   "cell_type": "code",
   "execution_count": null,
   "id": "e4a4f716",
   "metadata": {},
   "outputs": [],
   "source": [
    "class EmailNotificationService:\n",
    "    pass\n",
    "\n",
    "class SMSNotificationService:\n",
    "    pass\n",
    "\n",
    "class CallNotificationService:\n",
    "    pass\n",
    "\n",
    "ch = \"sms\" #You will be taking input\n",
    "\n",
    "if ch == \"sms\":\n",
    "    CallNotificationService()\n",
    "elif ch == \"email\":\n",
    "    EmailNotificationService()\n",
    "elif ch == \"phone\":\n",
    "    CallNotificationService()\n",
    "\n"
   ]
  },
  {
   "cell_type": "markdown",
   "id": "90caa467",
   "metadata": {},
   "source": [
    "## With Factory"
   ]
  },
  {
   "cell_type": "markdown",
   "id": "dee47342",
   "metadata": {},
   "source": [
    "> The Base Class"
   ]
  },
  {
   "cell_type": "code",
   "execution_count": 1,
   "id": "0f632889",
   "metadata": {},
   "outputs": [],
   "source": [
    "class Notification:\n",
    "    def notify(self, message):\n",
    "        pass\n",
    "    \n",
    "    def whoami(self):\n",
    "        print(\"I am a notification service!\")"
   ]
  },
  {
   "cell_type": "markdown",
   "id": "025a5260",
   "metadata": {},
   "source": [
    "Children classes"
   ]
  },
  {
   "cell_type": "code",
   "execution_count": 2,
   "id": "7efdc6d9",
   "metadata": {},
   "outputs": [],
   "source": [
    "class EmailNotificationService(Notification):\n",
    "    def notify(self, message):\n",
    "        print(f\"Email Notification: {message}\")\n",
    "\n",
    "class SMSNotificationService(Notification):\n",
    "    def notify(self, message):\n",
    "        print(f\"SMS Notification: {message}\")\n",
    "\n",
    "\n",
    "class CallNotificationService(Notification):\n",
    "    def notify(self, message):\n",
    "        print(f\"Phone Notification: {message}\")\n"
   ]
  },
  {
   "cell_type": "markdown",
   "id": "52d30310",
   "metadata": {},
   "source": [
    "> Factory"
   ]
  },
  {
   "cell_type": "code",
   "execution_count": 3,
   "id": "ddea611a",
   "metadata": {},
   "outputs": [],
   "source": [
    "class NotificationFactory:\n",
    "\n",
    "    def create_notification(self, choice):\n",
    "        if choice == \"sms\":\n",
    "            return SMSNotificationService()\n",
    "        elif choice == \"email\":\n",
    "            return EmailNotificationService()\n",
    "        elif choice == \"phone\":\n",
    "            return CallNotificationService()\n",
    "        else:\n",
    "            print(\"Sorry, not available!\")"
   ]
  },
  {
   "cell_type": "markdown",
   "id": "9bb11685",
   "metadata": {},
   "source": [
    "> Calling this code"
   ]
  },
  {
   "cell_type": "code",
   "execution_count": 6,
   "id": "9191b72e",
   "metadata": {},
   "outputs": [
    {
     "name": "stdout",
     "output_type": "stream",
     "text": [
      "<__main__.EmailNotificationService object at 0x000001BE08DCF070>\n",
      "Email Notification: Hello\n",
      "I am a notification service!\n",
      "<__main__.SMSNotificationService object at 0x000001BE08DCD6C0>\n",
      "SMS Notification: Hello\n",
      "I am a notification service!\n"
     ]
    }
   ],
   "source": [
    "factory = NotificationFactory()\n",
    "email_notification = factory.create_notification(\"email\")\n",
    "print(email_notification)\n",
    "email_notification.notify(\"Hello\")\n",
    "email_notification.whoami()\n",
    "sms_notification = factory.create_notification(\"sms\")\n",
    "print(sms_notification)\n",
    "sms_notification.notify(\"Hello\")\n",
    "sms_notification.whoami()"
   ]
  },
  {
   "cell_type": "markdown",
   "id": "3e84c09b",
   "metadata": {},
   "source": [
    "Assignment \n",
    "\n",
    "Document - Parent Class\n",
    "Word Doc, PDF Doc - Children Classes\n",
    "\n",
    "Create a factory for this"
   ]
  }
 ],
 "metadata": {
  "kernelspec": {
   "display_name": "Python 3",
   "language": "python",
   "name": "python3"
  },
  "language_info": {
   "codemirror_mode": {
    "name": "ipython",
    "version": 3
   },
   "file_extension": ".py",
   "mimetype": "text/x-python",
   "name": "python",
   "nbconvert_exporter": "python",
   "pygments_lexer": "ipython3",
   "version": "3.10.0"
  }
 },
 "nbformat": 4,
 "nbformat_minor": 5
}
