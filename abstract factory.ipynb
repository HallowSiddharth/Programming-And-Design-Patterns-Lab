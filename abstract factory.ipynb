{
 "cells": [
  {
   "cell_type": "markdown",
   "id": "6582ff0f",
   "metadata": {},
   "source": [
    "### Abstract Factory"
   ]
  },
  {
   "cell_type": "markdown",
   "id": "de19e40d",
   "metadata": {},
   "source": [
    "> Factory of Factories"
   ]
  },
  {
   "cell_type": "markdown",
   "id": "a5d9d052",
   "metadata": {},
   "source": [
    "- instead of creating one object, we will create families of related objects together"
   ]
  },
  {
   "cell_type": "markdown",
   "id": "c6c63a16",
   "metadata": {},
   "source": [
    "Windows\n",
    "\n",
    "    - textbox\n",
    "    - button\n",
    "Mac\n",
    "\n",
    "    - textbox\n",
    "    - button"
   ]
  },
  {
   "cell_type": "markdown",
   "id": "d6d83c99",
   "metadata": {},
   "source": [
    "#problem\n",
    "button = MacButton()\n",
    "textbox = WindowsTextBox()\n",
    "\n",
    "\n",
    "#Replace with\n",
    "\n",
    "obj = GUIToolkit(\"mac\")"
   ]
  },
  {
   "cell_type": "markdown",
   "id": "152beadc",
   "metadata": {},
   "source": [
    "- abstract class\n",
    "- implementations\n",
    "- abstract factory\n",
    "- factories"
   ]
  },
  {
   "cell_type": "markdown",
   "id": "0d14a998",
   "metadata": {},
   "source": [
    "> Abstract Classes"
   ]
  },
  {
   "cell_type": "code",
   "execution_count": 1,
   "id": "fdece12f",
   "metadata": {},
   "outputs": [],
   "source": [
    "from abc import ABC, abstractmethod\n",
    "\n",
    "class Button(ABC):\n",
    "    @abstractmethod\n",
    "    def click(self):\n",
    "        ...\n",
    "\n",
    "class TextBox(ABC):\n",
    "    @abstractmethod\n",
    "    def type(self):\n",
    "        ... "
   ]
  },
  {
   "cell_type": "markdown",
   "id": "66c07225",
   "metadata": {},
   "source": [
    "> Implementations"
   ]
  },
  {
   "cell_type": "code",
   "execution_count": 2,
   "id": "cd2ede8e",
   "metadata": {},
   "outputs": [],
   "source": [
    "class WindowsButton(Button):\n",
    "    def click(self):\n",
    "        print(\"Windows Button is pressed!\")\n",
    "\n",
    "class MacButton(Button):\n",
    "    def click(self):\n",
    "        print(\"Mac Button is pressed!\")\n",
    "\n",
    "class WindowsTextBox(TextBox):\n",
    "    def type(self):\n",
    "        print(\"Windows is typing!\")\n",
    "\n",
    "class MacTextBox(TextBox):\n",
    "    def type(self):\n",
    "        print(\"Mac is typing!\")"
   ]
  },
  {
   "cell_type": "markdown",
   "id": "f7338a0e",
   "metadata": {},
   "source": [
    "> Abstract Factory"
   ]
  },
  {
   "cell_type": "code",
   "execution_count": 5,
   "id": "c5227a88",
   "metadata": {},
   "outputs": [],
   "source": [
    "from abc import ABC, abstractmethod\n",
    "class GUIFactory(ABC):\n",
    "    @abstractmethod\n",
    "    def create_button(self):\n",
    "        ...\n",
    "    \n",
    "    @abstractmethod\n",
    "    def create_textbox(self):\n",
    "        ..."
   ]
  },
  {
   "cell_type": "markdown",
   "id": "939a030d",
   "metadata": {},
   "source": [
    "> Factories"
   ]
  },
  {
   "cell_type": "code",
   "execution_count": 6,
   "id": "f95937bb",
   "metadata": {},
   "outputs": [],
   "source": [
    "class MacFactory(GUIFactory):\n",
    "    def create_button(self):\n",
    "        return MacButton()\n",
    "\n",
    "    def create_textbox(self):\n",
    "        return MacTextBox()\n",
    "    \n",
    "class WindowsFactory(GUIFactory):\n",
    "    def create_button(self):\n",
    "        return WindowsButton()\n",
    "\n",
    "    def create_textbox(self):\n",
    "        return WindowsTextBox()"
   ]
  },
  {
   "cell_type": "markdown",
   "id": "9b634330",
   "metadata": {},
   "source": [
    "> Factory of factories"
   ]
  },
  {
   "cell_type": "code",
   "execution_count": 7,
   "id": "b5952e65",
   "metadata": {},
   "outputs": [],
   "source": [
    "class GUIToolKit:\n",
    "    def create_toolkit(self, choice):\n",
    "        if choice == \"Mac\":\n",
    "            return MacFactory()\n",
    "        elif choice == \"Windows\":\n",
    "            return WindowsFactory()"
   ]
  },
  {
   "cell_type": "code",
   "execution_count": 9,
   "id": "a85578c8",
   "metadata": {},
   "outputs": [
    {
     "name": "stdout",
     "output_type": "stream",
     "text": [
      "Windows is typing!\n",
      "Windows Button is pressed!\n"
     ]
    }
   ],
   "source": [
    "#driver code\n",
    "\n",
    "factory = GUIToolKit()\n",
    "toolkit = factory.create_toolkit(\"Windows\")\n",
    "tb = toolkit.create_textbox()\n",
    "bt = toolkit.create_button()\n",
    "tb.type()\n",
    "bt.click()"
   ]
  },
  {
   "cell_type": "code",
   "execution_count": 10,
   "id": "f177d2a8",
   "metadata": {},
   "outputs": [
    {
     "name": "stdout",
     "output_type": "stream",
     "text": [
      "Mac is typing!\n",
      "Mac Button is pressed!\n"
     ]
    }
   ],
   "source": [
    "toolkit = factory.create_toolkit(\"Mac\")\n",
    "tb = toolkit.create_textbox()\n",
    "bt = toolkit.create_button()\n",
    "tb.type()\n",
    "bt.click()"
   ]
  }
 ],
 "metadata": {
  "kernelspec": {
   "display_name": "Python 3",
   "language": "python",
   "name": "python3"
  },
  "language_info": {
   "codemirror_mode": {
    "name": "ipython",
    "version": 3
   },
   "file_extension": ".py",
   "mimetype": "text/x-python",
   "name": "python",
   "nbconvert_exporter": "python",
   "pygments_lexer": "ipython3",
   "version": "3.10.0"
  }
 },
 "nbformat": 4,
 "nbformat_minor": 5
}
