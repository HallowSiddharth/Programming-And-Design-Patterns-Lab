{
 "cells": [
  {
   "cell_type": "markdown",
   "id": "38b1ca9f",
   "metadata": {},
   "source": [
    "## Decorators"
   ]
  },
  {
   "cell_type": "markdown",
   "id": "3d126eb5",
   "metadata": {},
   "source": [
    "> Decorators are used to wrap a function, giving it more functionality\n",
    "\n",
    "> 1. Think of a cake \n",
    "> 2. The cake is wrapped in a box, giving it protection\n",
    "> 3. the box is kept in a cover, making it easier to carry\n",
    "> 4. In all these cases, the main content of the cake is still preserved, but there are layers to it.\n",
    "> 5. If you want to eat the cake, you must first open the cover, then open the box and finally eat the cake.\n",
    "> 6. Similarly decorators always run before the main function."
   ]
  },
  {
   "cell_type": "code",
   "execution_count": null,
   "id": "3d660c81",
   "metadata": {},
   "outputs": [
    {
     "name": "stdout",
     "output_type": "stream",
     "text": [
      "Welcome sir!\n",
      "Your Account has been successfully registered!\n"
     ]
    }
   ],
   "source": [
    "#basics\n",
    "\n",
    "def greet(other_function):\n",
    "    print(\"Welcome sir!\")\n",
    "    return other_function\n",
    "\n",
    "def register():\n",
    "    print(\"Your Account has been successfully registered!\")\n",
    "\n",
    "abc = greet(register)\n",
    "abc()"
   ]
  },
  {
   "cell_type": "code",
   "execution_count": null,
   "id": "4c616679",
   "metadata": {},
   "outputs": [
    {
     "name": "stdout",
     "output_type": "stream",
     "text": [
      "Welcome sir!\n",
      "Your Account has been successfully registered!\n"
     ]
    }
   ],
   "source": [
    "#Can have the same name as the original function\n",
    "register = greet(register)\n",
    "register()"
   ]
  },
  {
   "cell_type": "code",
   "execution_count": 7,
   "id": "5062d270",
   "metadata": {},
   "outputs": [
    {
     "name": "stdout",
     "output_type": "stream",
     "text": [
      "Welcome, hello sir!\n",
      "Your Account has been successfully registered!\n"
     ]
    }
   ],
   "source": [
    "#let's use decorator\n",
    "\n",
    "#decorator function\n",
    "def greet1(other_function):\n",
    "    print(\"Welcome, hello sir!\")\n",
    "    return other_function\n",
    "\n",
    "@greet1 # => register = greet(register)\n",
    "def register():\n",
    "    print(\"Your Account has been successfully registered!\")\n",
    "\n",
    "register()"
   ]
  },
  {
   "cell_type": "markdown",
   "id": "76f3c7e3",
   "metadata": {},
   "source": [
    "##### **@property Decorator**\n",
    "> the '@property' decorator is used to disguise a function as a variable\n",
    "> Why would we need '@property' decorator?\n",
    ">   1. Functions are dynamic, they provide a result with whatever the parameters are. If we ever change certain properties in a class, everything related to that property must change, but it cannot do that if those properties are simple variables.\n",
    ">   2. We can use it to access private variables by converting it into a public variable\n",
    "\n",
    ">Let us look into 1 and 2 a bit further"
   ]
  },
  {
   "cell_type": "code",
   "execution_count": 11,
   "id": "744749a3",
   "metadata": {},
   "outputs": [
    {
     "name": "stdout",
     "output_type": "stream",
     "text": [
      "First name: John\n",
      "Last name: Cena\n",
      "Email : JohnCena@ssn.com\n",
      "JohnCena@ssn.com\n",
      "First name: James\n",
      "Last name: Cena\n",
      "Email : JohnCena@ssn.com\n"
     ]
    }
   ],
   "source": [
    "#Example 1\n",
    "\"\"\"Let us consider an employee class with attributes first name, \n",
    "last name, and email.\n",
    "Now email is nothing but firstname+lastname@ssn.com\"\"\"\n",
    "\n",
    "class Employee:\n",
    "    def __init__(self,first,last):\n",
    "        self.first_name=first\n",
    "        self.last_name=last\n",
    "        self.email=first+last+\"@ssn.com\"\n",
    "\n",
    "    def getdetails(self):\n",
    "        print(\"First name:\",self.first_name)\n",
    "        print(\"Last name:\",self.last_name)\n",
    "        print(\"Email :\",self.email)\n",
    "\n",
    "emp1 = Employee(\"John\", \"Cena\")\n",
    "emp1.getdetails()\n",
    "\n",
    "emp1.first_name = \"James\"\n",
    "print(emp1.email)\n",
    "emp1.getdetails()"
   ]
  },
  {
   "cell_type": "code",
   "execution_count": 12,
   "id": "e1750117",
   "metadata": {},
   "outputs": [
    {
     "name": "stdout",
     "output_type": "stream",
     "text": [
      "First name: John\n",
      "Last name: Cena\n",
      "Email : JohnCena@ssn.com\n",
      "JamesCena@ssn.com\n",
      "First name: James\n",
      "Last name: Cena\n",
      "Email : JamesCena@ssn.com\n"
     ]
    }
   ],
   "source": [
    "#using @property\n",
    "\n",
    "class Employee:\n",
    "    def __init__(self,first,last):\n",
    "        self.first_name=first\n",
    "        self.last_name=last\n",
    "        #self.email=first+last+\"@ssn.com\"\n",
    "\n",
    "    @property\n",
    "    def email(self):\n",
    "        return self.first_name + self.last_name + \"@ssn.com\"\n",
    "    \n",
    "    def getdetails(self):\n",
    "        print(\"First name:\",self.first_name)\n",
    "        print(\"Last name:\",self.last_name)\n",
    "        print(\"Email :\",self.email)\n",
    "\n",
    "\n",
    "emp1 = Employee(\"John\", \"Cena\")\n",
    "emp1.getdetails()\n",
    "\n",
    "emp1.first_name = \"James\"\n",
    "print(emp1.email)\n",
    "emp1.getdetails()"
   ]
  },
  {
   "cell_type": "markdown",
   "id": "f8eb6349",
   "metadata": {},
   "source": [
    ">   2. We can use it to access private variables by converting it into a public variable"
   ]
  },
  {
   "cell_type": "markdown",
   "id": "92ffe18e",
   "metadata": {},
   "source": [
    "**Accessing Private Variables**\n",
    "\n",
    ">Let's say we have an object which is an attribute length\n",
    ">   1. length should be a private attribute, because if users meddle with the length, that can mean our code can get messed up\n",
    ">   2. But users should also be able to see the length of the object\n",
    "\n",
    "This is also a use case for @property"
   ]
  },
  {
   "cell_type": "code",
   "execution_count": null,
   "id": "f2276fa3",
   "metadata": {},
   "outputs": [
    {
     "name": "stdout",
     "output_type": "stream",
     "text": [
      "0\n",
      "1\n",
      "2\n",
      "2\n"
     ]
    },
    {
     "ename": "AttributeError",
     "evalue": "can't set attribute 'len'",
     "output_type": "error",
     "traceback": [
      "\u001b[1;31m---------------------------------------------------------------------------\u001b[0m",
      "\u001b[1;31mAttributeError\u001b[0m                            Traceback (most recent call last)",
      "\u001b[1;32m~\\AppData\\Local\\Temp/ipykernel_21360/4166904689.py\u001b[0m in \u001b[0;36m<module>\u001b[1;34m\u001b[0m\n\u001b[0;32m     21\u001b[0m \u001b[0mprint\u001b[0m\u001b[1;33m(\u001b[0m\u001b[0mobj\u001b[0m\u001b[1;33m.\u001b[0m\u001b[0mlen\u001b[0m\u001b[1;33m)\u001b[0m\u001b[1;33m\u001b[0m\u001b[1;33m\u001b[0m\u001b[0m\n\u001b[0;32m     22\u001b[0m \u001b[0mprint\u001b[0m\u001b[1;33m(\u001b[0m\u001b[0mobj\u001b[0m\u001b[1;33m.\u001b[0m\u001b[0mlen\u001b[0m\u001b[1;33m)\u001b[0m\u001b[1;33m\u001b[0m\u001b[1;33m\u001b[0m\u001b[0m\n\u001b[1;32m---> 23\u001b[1;33m \u001b[0mobj\u001b[0m\u001b[1;33m.\u001b[0m\u001b[0mlen\u001b[0m \u001b[1;33m=\u001b[0m \u001b[1;36m200\u001b[0m\u001b[1;33m\u001b[0m\u001b[1;33m\u001b[0m\u001b[0m\n\u001b[0m",
      "\u001b[1;31mAttributeError\u001b[0m: can't set attribute 'len'"
     ]
    }
   ],
   "source": [
    "#Example 2\n",
    "\n",
    "class ThisObject:\n",
    "    def __init__(self):\n",
    "        self.lst=[]\n",
    "        self._len=0\n",
    "\n",
    "    def push(self,value):\n",
    "        self.lst.append(value)\n",
    "        self._len+=1\n",
    "\n",
    "    @property\n",
    "    def len(self):\n",
    "        return self._len\n",
    "\n",
    "obj = ThisObject()\n",
    "print(obj.len)\n",
    "obj.push(1)\n",
    "print(obj.len)\n",
    "obj.push(2)\n",
    "print(obj.len)\n",
    "print(obj.len)\n",
    "#Will throw an error\n",
    "obj.len = 200"
   ]
  },
  {
   "cell_type": "markdown",
   "id": "c9f648ae",
   "metadata": {},
   "source": [
    "## Getter, Setter, Deleter"
   ]
  },
  {
   "cell_type": "code",
   "execution_count": 27,
   "id": "23563a9e",
   "metadata": {},
   "outputs": [
    {
     "name": "stdout",
     "output_type": "stream",
     "text": [
      "First name: First\n",
      "Last name: Last\n",
      "Email : FirstLast@ssn.com\n",
      "First Last\n",
      "New Name\n",
      "New\n",
      "NewName@ssn.com\n",
      "_ _\n",
      "_\n",
      "__@ssn.com\n"
     ]
    }
   ],
   "source": [
    "#getter,setter and deleter\n",
    "# getter is used to get the value of the @property attribute\n",
    "# setter is used to change the values of different things \n",
    "# deletor is used to delete the attribute\n",
    "\n",
    "\n",
    "\n",
    "class Employee:\n",
    "    def __init__(self,first,last):\n",
    "        self.first_name=first\n",
    "        self.last_name=last\n",
    "\n",
    "    @property\n",
    "    def email(self):\n",
    "        return self.first_name + self.last_name + \"@ssn.com\"\n",
    "    \n",
    "    @property\n",
    "    def fullname(self):\n",
    "        return self.first_name + \" \" + self.last_name\n",
    "    \n",
    "    @fullname.setter\n",
    "    def fullname(self, name):\n",
    "        first, last = name.split()\n",
    "        self.first_name = first\n",
    "        self.last_name = last\n",
    "\n",
    "    @fullname.deleter\n",
    "    def fullname(self):\n",
    "        self.first_name = \"_\"\n",
    "        self.last_name  = \"_\"\n",
    "\n",
    "\n",
    "    def getdetails(self):\n",
    "        print(\"First name:\",self.first_name)\n",
    "        print(\"Last name:\",self.last_name)\n",
    "        print(\"Email :\",self.email)\n",
    "\n",
    "obj = Employee(\"First\", \"Last\")\n",
    "obj.getdetails()\n",
    "print(obj.fullname)\n",
    "\n",
    "obj.fullname = \"New Name\"\n",
    "print(obj.fullname)\n",
    "print(obj.first_name)\n",
    "print(obj.email)\n",
    "\n",
    "del obj.fullname\n",
    "print(obj.fullname)\n",
    "print(obj.first_name)\n",
    "print(obj.email)"
   ]
  }
 ],
 "metadata": {
  "kernelspec": {
   "display_name": "Python 3",
   "language": "python",
   "name": "python3"
  },
  "language_info": {
   "codemirror_mode": {
    "name": "ipython",
    "version": 3
   },
   "file_extension": ".py",
   "mimetype": "text/x-python",
   "name": "python",
   "nbconvert_exporter": "python",
   "pygments_lexer": "ipython3",
   "version": "3.10.0"
  }
 },
 "nbformat": 4,
 "nbformat_minor": 5
}
