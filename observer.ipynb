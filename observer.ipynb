{
 "cells": [
  {
   "cell_type": "markdown",
   "id": "70a6508e",
   "metadata": {},
   "source": [
    "## Observer"
   ]
  },
  {
   "cell_type": "markdown",
   "id": "284fd245",
   "metadata": {},
   "source": [
    "### **5. Observor Pattern**\n",
    "\n",
    "> Used for 1 to many relations\n",
    "\n",
    "> When there are a lot of observors observing something, when there is change, all observors need to be notified. That is why we use this pattern"
   ]
  },
  {
   "cell_type": "code",
   "execution_count": 4,
   "id": "9d79a629",
   "metadata": {},
   "outputs": [],
   "source": [
    "#User Class\n",
    "\n",
    "class User:\n",
    "    def __init__(self,firstname,lastname):\n",
    "        self.first_name=firstname\n",
    "        self.last_name=lastname\n",
    "\n",
    "    def alert(self, message):\n",
    "        print(f\"Dear {self.first_name} {self.last_name}, {message}\")\n",
    "\n",
    "class Amazon:\n",
    "    def __init__(self):\n",
    "        self.users=[]\n",
    "        self.events=[]\n",
    "\n",
    "    def addUser(self, user):\n",
    "        self.users.append(user)\n",
    "        print(\"User added successfully!\")\n",
    "    \n",
    "    def notify(self, message):\n",
    "        for user in self.users:\n",
    "            user.alert(message)\n",
    "\n",
    "    def addEvent(self, name, date, message):\n",
    "        print(\"Creating Event!\")\n",
    "        self.events.append([name,date])\n",
    "        print(\"Created Event successfully! Notifying the users\")\n",
    "        self.notify(message)"
   ]
  },
  {
   "cell_type": "code",
   "execution_count": 5,
   "id": "13c23408",
   "metadata": {},
   "outputs": [
    {
     "name": "stdout",
     "output_type": "stream",
     "text": [
      "User added successfully!\n",
      "User added successfully!\n",
      "User added successfully!\n",
      "Creating Event!\n",
      "Created Event successfully! Notifying the users\n",
      "Dear Hallow Teaches, Flat 50% Off!!! Hurry\n",
      "Dear John Cena, Flat 50% Off!!! Hurry\n",
      "Dear Naruto Uzumaki, Flat 50% Off!!! Hurry\n"
     ]
    }
   ],
   "source": [
    "u1 = User(\"Hallow\", \"Teaches\")\n",
    "u2 = User(\"John\", \"Cena\")\n",
    "u3 = User(\"Naruto\", \"Uzumaki\")\n",
    "\n",
    "obj = Amazon()\n",
    "obj.addUser(u1)\n",
    "obj.addUser(u2)\n",
    "obj.addUser(u3)\n",
    "\n",
    "#Let's create an event to see if notifications go through\n",
    "obj.addEvent(\"Sale\",\"1st June\", \"Flat 50% Off!!! Hurry\")"
   ]
  },
  {
   "cell_type": "code",
   "execution_count": 6,
   "id": "92f034d8",
   "metadata": {},
   "outputs": [
    {
     "data": {
      "text/plain": [
       "[['Sale', '1st June']]"
      ]
     },
     "execution_count": 6,
     "metadata": {},
     "output_type": "execute_result"
    }
   ],
   "source": [
    "obj.events"
   ]
  }
 ],
 "metadata": {
  "kernelspec": {
   "display_name": "Python 3",
   "language": "python",
   "name": "python3"
  },
  "language_info": {
   "codemirror_mode": {
    "name": "ipython",
    "version": 3
   },
   "file_extension": ".py",
   "mimetype": "text/x-python",
   "name": "python",
   "nbconvert_exporter": "python",
   "pygments_lexer": "ipython3",
   "version": "3.10.0"
  }
 },
 "nbformat": 4,
 "nbformat_minor": 5
}
